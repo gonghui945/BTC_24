{
 "cells": [
  {
   "cell_type": "code",
   "execution_count": 1,
   "id": "270003e4",
   "metadata": {},
   "outputs": [],
   "source": [
    "import hashlib  # Used for computing SHA-256 hash\n",
    "import binascii  # Used for conversion between hexadecimal and bytes"
   ]
  },
  {
   "cell_type": "code",
   "execution_count": 2,
   "id": "c4c8f0e9",
   "metadata": {},
   "outputs": [],
   "source": [
    "# Predefined entropy value, typically obtained from a true random number generator\n",
    "entropy = '3615e3be2a3ce8efba23168152c7288ff3b7004d60c201dac73eedc6c9c82316'"
   ]
  },
  {
   "cell_type": "code",
   "execution_count": 3,
   "id": "3515247d",
   "metadata": {},
   "outputs": [],
   "source": [
    "data = entropy.strip()  # Clean up data by removing any extra spaces or newlines\n",
    "\n",
    "data = binascii.unhexlify(data)  # Convert hexadecimal string to binary data\n",
    "\n",
    "# Validate that the data length matches standard entropy lengths (BIP39 standard)\n",
    "if len(data) not in [16, 20, 24, 28, 32]:\n",
    "    raise ValueError(\n",
    "        'Data length should be one of the following: [16, 20, 24, 28, 32], but it is not (%d).' % len(data)\n",
    "    )\n"
   ]
  },
  {
   "cell_type": "code",
   "execution_count": 4,
   "id": "6ed07a50",
   "metadata": {},
   "outputs": [],
   "source": [
    "# Compute SHA-256 hash of the entropy\n",
    "h = hashlib.sha256(data).hexdigest()"
   ]
  },
  {
   "cell_type": "code",
   "execution_count": 5,
   "id": "29d9b67b-d075-4d48-b61a-8e2f0decb1ea",
   "metadata": {},
   "outputs": [],
   "source": [
    "# Convert entropy to binary and append a checksum derived from the hash\n",
    "b = bin(int(binascii.hexlify(data), 16))[2:].zfill(len(data) * 8) + bin(int(h, 16))[2:].zfill(256)[: len(data) * 8 // 32]"
   ]
  },
  {
   "cell_type": "code",
   "execution_count": 6,
   "id": "cec8137f",
   "metadata": {},
   "outputs": [],
   "source": [
    "# Read the BIP39 wordlist where each word corresponds to an index\n",
    "with open(\"words.txt\", \"r\") as f:\n",
    "    wordlist = [w.strip() for w in f.readlines()]"
   ]
  },
  {
   "cell_type": "code",
   "execution_count": 7,
   "id": "18b9cc14",
   "metadata": {},
   "outputs": [],
   "source": [
    "# Generate the mnemonic seed phrase\n",
    "seed = []\n",
    "for i in range(len(b) // 11):  # Each 11-bit binary segment corresponds to a word\n",
    "    indx = int(b[11 * i:11 * (i + 1)], 2)  # Convert 11-bit binary segment to an integer index\n",
    "    seed.append(wordlist[indx])  # Retrieve the corresponding word from the wordlist"
   ]
  },
  {
   "cell_type": "code",
   "execution_count": 8,
   "id": "6e481969-237a-4430-96b6-ba9e1a8e3502",
   "metadata": {},
   "outputs": [
    {
     "name": "stdout",
     "output_type": "stream",
     "text": [
      "['abdominogenital', 'abstractly', 'Accipitres', 'abiologically', 'acanthosis', 'Abor-miri', 'accessioning', 'ableeze', 'abox', 'abscisse', 'acanthocephalan', 'abash', 'abecedaria', 'above-quoted', 'abdominoanterior', 'Abailard', '2nd', 'acatalepsy', 'acapnial', 'acceding', 'abnormous', 'acceptilated', 'abridgedly', 'acaulose']\n"
     ]
    }
   ],
   "source": [
    "# Print the generated mnemonic seed phrase\n",
    "print(seed)"
   ]
  },
  {
   "cell_type": "code",
   "execution_count": null,
   "id": "a006c468-0649-412e-bdc0-f9b24c8f1909",
   "metadata": {},
   "outputs": [],
   "source": []
  }
 ],
 "metadata": {
  "kernelspec": {
   "display_name": "Python 3 (ipykernel)",
   "language": "python",
   "name": "python3"
  },
  "language_info": {
   "codemirror_mode": {
    "name": "ipython",
    "version": 3
   },
   "file_extension": ".py",
   "mimetype": "text/x-python",
   "name": "python",
   "nbconvert_exporter": "python",
   "pygments_lexer": "ipython3",
   "version": "3.11.5"
  }
 },
 "nbformat": 4,
 "nbformat_minor": 5
}
